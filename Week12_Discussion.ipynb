{
  "nbformat": 4,
  "nbformat_minor": 0,
  "metadata": {
    "colab": {
      "name": "Week12_Discussion.ipynb",
      "provenance": [],
      "collapsed_sections": [],
      "authorship_tag": "ABX9TyN7ZI94RrG6uBGAMrsHSwh1",
      "include_colab_link": true
    },
    "kernelspec": {
      "name": "python3",
      "display_name": "Python 3"
    }
  },
  "cells": [
    {
      "cell_type": "markdown",
      "metadata": {
        "id": "view-in-github",
        "colab_type": "text"
      },
      "source": [
        "<a href=\"https://colab.research.google.com/github/MrinmayeeKulkarni/Cloud-Computing-Weekly-Discussion/blob/master/Week12_Discussion.ipynb\" target=\"_parent\"><img src=\"https://colab.research.google.com/assets/colab-badge.svg\" alt=\"Open In Colab\"/></a>"
      ]
    },
    {
      "cell_type": "markdown",
      "metadata": {
        "id": "hg7jygT5nwNW",
        "colab_type": "text"
      },
      "source": [
        "### What problems does Sagemaker solve?\n",
        "* SageMaker is a platform to process, train and deploy machine learning models to production at scale.\n",
        "\n",
        "* Easy to use- It offers very clean and easy to use interface. The build ML instances launch Jupyter Notebook which can help get started with exploration and development of the model very easily. Even tuning of a model which can be very tedious and time consuming can be done very speedily in SageMaker.\n",
        "\n",
        "* Convenience- Auto scaling and auto hyper parameter tuning are some of the best features in SageMaker. It’s even more convenient when using built-in algorithms, just one line of code.\n",
        "\n",
        "* The de-coupling of ML algorithm code and data is a beneficial quality in SageMaker. For modern businesses this kind of container technology is preferred as it bridges the gap between data science teams and software development.\n",
        "\n",
        "### What are competitive offerings to Sagemaker?\n",
        "\n",
        "SageMaker supports popular ML frameworks such as TensorFlow and Apache MXNet. It also supports multi-node training even for your own models. No configuration is required to train models in the cloud. It also keeps track of one’s ongoing services (train/tune/deploy). Both Jupyter notebook and Jupyter lab are available.\n",
        "\n",
        "But it requires all the data to be used, stored on S3 and requires a significant price increase for instance type. Thus, the need to understand the other competitive offerings to SageMaker. \n",
        "\n",
        "Some of them are as follows,\n",
        "\n",
        "Google Cloud Platform\n",
        "\n",
        "TensorFlow\n",
        "\n",
        "Azure Machine Learning Studio\n",
        "\n",
        "IBM Watson Studio\n",
        "\n",
        "MATLAB\n",
        "\n",
        "Salesforce Einstein\n",
        "\n",
        "IBM Watson Machine Learning\n",
        "\n",
        "RapidMiner etc.\n",
        "\n",
        "### Post a screenshot of a lab where you had difficulty with a concept or learned something.\n"
      ]
    }
  ]
}