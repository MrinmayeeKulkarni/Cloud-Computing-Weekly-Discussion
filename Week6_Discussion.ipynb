{
  "nbformat": 4,
  "nbformat_minor": 0,
  "metadata": {
    "colab": {
      "name": "Week6_Discussion.ipynb",
      "provenance": [],
      "collapsed_sections": [],
      "authorship_tag": "ABX9TyPSn3B/GPwb0n7BrXlxwf/y",
      "include_colab_link": true
    },
    "kernelspec": {
      "name": "python3",
      "display_name": "Python 3"
    }
  },
  "cells": [
    {
      "cell_type": "markdown",
      "metadata": {
        "id": "view-in-github",
        "colab_type": "text"
      },
      "source": [
        "<a href=\"https://colab.research.google.com/github/MrinmayeeKulkarni/Cloud-Computing-Weekly-Discussion/blob/master/Week6_Discussion.ipynb\" target=\"_parent\"><img src=\"https://colab.research.google.com/assets/colab-badge.svg\" alt=\"Open In Colab\"/></a>"
      ]
    },
    {
      "cell_type": "markdown",
      "metadata": {
        "id": "AonM_8hao-nB",
        "colab_type": "text"
      },
      "source": [
        "** How could ASICs play an important role in Machine Learning going forward?\n",
        "CPUs- Microprocessors with integrated circuits performing specific tasks. \n",
        "![alt text](https://user-images.githubusercontent.com/44381361/75216471-180ae480-5762-11ea-8917-b8ece63f9559.png)\n",
        "GPUs- Have hundreds of processing units but lack mulitpurpose application in CPUs. It would work well for Machine Learning parallel calculations but as it isn't multi-functional it works as fast as a CPU fed data in memory.\n",
        "![alt text](https://user-images.githubusercontent.com/44381361/75216485-23f6a680-5762-11ea-93c8-9e2b1bd338c3.png)\n",
        "ASIC (Applied specific integrated circuit)- Can be a GPU, CPU or any processor designed with any amount of memory for specific operations. \n",
        "![alt text](https://user-images.githubusercontent.com/44381361/75216503-307aff00-5762-11ea-963a-30a67a8ca872.png)\n",
        "The role of ASICs in Machine Learning operations is to do matrix multiplications easily. It provides faster throughput. These matrix multiplication units are specifically designed for either training and inference or just inference. \n",
        "\n",
        "** Find, run and extend a notebook in seedbank and share along with your comments on what you learned.\n",
        "It was a very interesting gateaway to tensor flow and the processing helped understand the above question's answer even better.\n",
        "![alt text](https://user-images.githubusercontent.com/44381361/75216531-4983b000-5762-11ea-89b8-5f235b3ea487.png)\n",
        "\n",
        "![alt text](https://user-images.githubusercontent.com/44381361/75216546-56a09f00-5762-11ea-8f78-f62aeeef3172.png)\n"
      ]
    }
  ]
}