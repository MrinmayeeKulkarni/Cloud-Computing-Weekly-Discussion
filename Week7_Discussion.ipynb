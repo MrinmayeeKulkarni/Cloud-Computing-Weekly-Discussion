{
  "nbformat": 4,
  "nbformat_minor": 0,
  "metadata": {
    "colab": {
      "name": "Week7_Discussion.ipynb",
      "provenance": [],
      "collapsed_sections": [],
      "authorship_tag": "ABX9TyOj5M9HFpsBIf4iuDaP5wAA",
      "include_colab_link": true
    },
    "kernelspec": {
      "name": "python3",
      "display_name": "Python 3"
    }
  },
  "cells": [
    {
      "cell_type": "markdown",
      "metadata": {
        "id": "view-in-github",
        "colab_type": "text"
      },
      "source": [
        "<a href=\"https://colab.research.google.com/github/MrinmayeeKulkarni/Cloud-Computing-Weekly-Discussion/blob/master/Week7_Discussion.ipynb\" target=\"_parent\"><img src=\"https://colab.research.google.com/assets/colab-badge.svg\" alt=\"Open In Colab\"/></a>"
      ]
    },
    {
      "cell_type": "markdown",
      "metadata": {
        "id": "XVfXjtQwiDfe",
        "colab_type": "text"
      },
      "source": [
        "* \tWhat are the problems with a “one size fits all” approach to relational databases?\n",
        "\n",
        "  One size fits all approach to database is difficult to handle as every application model can require different database and can get different use out of multiple databases. Therefore, with just a one size relational database the issue is that there is no flexibility, scalability. As developers are breaking complex applications in smaller pieces it is difficult to deal with a huge relational database.\n",
        "\n",
        "  Relational Database- Has its own benefits too, it is scalable and high performance for the needs it is meant to address, but after this is accomplished it cannot address all other application needs.\n",
        "  Key-value- For example if there is a profile search with just key-value lookup there is less need for relational databases. In such case low-latency key-value databases would be useful which have great throughput and fast ingestion of data.\n",
        "  Graph Database-For something like a Social network analysis algorithm the relational databases wouldn’t fulfill the purpose of running the algorithm.\n",
        "  In-memory- An example of in-memory would be, if making a recommendation engine for who should be friends with whom? Such Algorithms would not need to run through the whole database continuously and therefore would need just microsecond latency for a specific use. \n",
        "\n",
        "  All of these examples explain the problems of one-size fits all but that doesn’t mean that relational databases are not relevant nowadays. They are still very useful but there are different other options for other needs as well.\n",
        "\n",
        "* \tHow could a service like Google BigQuery change the way you deal with Data? \n",
        "\n",
        "  Google BigQuery is a serverless, scalable and low-cost enterprise data warehouse that is available on Google cloud. It changes the way how a company handles data, as the time spent on managing the infrastructure is no more a problem. Companies can focus on analyzing data. Google BigQuery engine renders the results for massive data points at ease with fast speeds and extremely scalable for any data. BigQuery streamlines collaboration which lessens departmentalization.\n",
        "\n",
        "* What problem does a “serverless” database like Athena solve?\n",
        "\n",
        "  A service like Amazon Athena means that it is serverless, which means that no infrastructure needed to manage to query a database.  You only pay for the queries that you run, which reduces costs. It is an open source serverless front-end SQL query engine. The only thing required is to have the data to query on amazon S3 with schemas and tables set. \n",
        "\n",
        "* Post a screenshot of a lab where you had difficulty with a concept or learned something.\n",
        "\n",
        "  I liked that this lab had a refresher on SQL as well dove deep in BigQuery. I liked troubleshooting and solving Data join pitfalls and working with arrays, JSON and structs in BigQuery.\n"
      ]
    }
  ]
}