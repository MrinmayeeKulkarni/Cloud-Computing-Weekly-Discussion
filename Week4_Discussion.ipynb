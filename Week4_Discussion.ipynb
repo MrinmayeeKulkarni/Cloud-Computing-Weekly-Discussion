{
  "nbformat": 4,
  "nbformat_minor": 0,
  "metadata": {
    "colab": {
      "name": "Week4_Discussion.ipynb",
      "provenance": [],
      "collapsed_sections": [],
      "authorship_tag": "ABX9TyOz258nHIsHoxWtacfKTCrE",
      "include_colab_link": true
    },
    "kernelspec": {
      "name": "python3",
      "display_name": "Python 3"
    }
  },
  "cells": [
    {
      "cell_type": "markdown",
      "metadata": {
        "id": "view-in-github",
        "colab_type": "text"
      },
      "source": [
        "<a href=\"https://colab.research.google.com/github/MrinmayeeKulkarni/Cloud-Computing-Weekly-Discussion/blob/master/Week4_Discussion.ipynb\" target=\"_parent\"><img src=\"https://colab.research.google.com/assets/colab-badge.svg\" alt=\"Open In Colab\"/></a>"
      ]
    },
    {
      "cell_type": "markdown",
      "metadata": {
        "id": "qAncvcpDLIcv",
        "colab_type": "text"
      },
      "source": [
        "**• What are containers?**\n",
        "\n",
        "Containers are unit of software, where individual applications can run on their own virtual environment with all the dependencies (packages and libraries) already present. Multiple containers can run over an OS kernel. Containers can help in isolating environment to run these applications with all the services required. It is the abstraction at the application level.\n",
        "\n",
        "**• What problem do containers solve?**\n",
        "\n",
        "Virtual machines can optimize the resources by a server, but there still waste. This wastage is avoided by containers where an application can be run in its own virtual environment, which is like a small container just meant for the application. \n",
        "Containers help in maintaining consistency in deployments and make it convenient for any environment: private or public cloud or just a personal device. \n",
        "Containers also save memory and are faster, they are portable with their usage as well.\n",
        "The only concern with all these advantages of containers is the security. As the Docker images can be downloaded easily, Docker has used Docker Content Trust to verify the publisher of the images, it isn’t a definite way to secure this process completely.\n",
        "\n",
        "**• What is the relationship between Kubernetes and containers?**\n",
        "\n",
        "Containers can be used to run multiple applications in a single machine, but what if there is a need to use more than one machine then the horizontal scaling (moving across containers) is needed. This where Kubernetes comes into picture. Kubernetes helps in container orchestration to manage large number of containers. It consists of nodes that are equivalent to servers. A pod in Kubernetes is a unit of deployment. The Kubernetes pods contain multiple Docker containers. The containers in a pod share the same host (network).\n",
        "\n",
        "\n",
        "\n",
        "![Qwiklabs](https://github.com/MrinmayeeKulkarni/Cloud-Computing-Weekly-Discussion/issues/1#issue-562284948)\n",
        "\n"
      ]
    }
  ]
}