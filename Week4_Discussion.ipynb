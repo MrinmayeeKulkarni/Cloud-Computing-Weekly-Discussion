{
  "nbformat": 4,
  "nbformat_minor": 0,
  "metadata": {
    "colab": {
      "name": "Week4_Discussion.ipynb",
      "provenance": [],
      "collapsed_sections": [],
      "authorship_tag": "ABX9TyP8INMKaOf7Qr4ZkLI4JFcJ",
      "include_colab_link": true
    },
    "kernelspec": {
      "name": "python3",
      "display_name": "Python 3"
    }
  },
  "cells": [
    {
      "cell_type": "markdown",
      "metadata": {
        "id": "view-in-github",
        "colab_type": "text"
      },
      "source": [
        "<a href=\"https://colab.research.google.com/github/MrinmayeeKulkarni/Cloud-Computing-Weekly-Discussion/blob/master/Week4_Discussion.ipynb\" target=\"_parent\"><img src=\"https://colab.research.google.com/assets/colab-badge.svg\" alt=\"Open In Colab\"/></a>"
      ]
    },
    {
      "cell_type": "markdown",
      "metadata": {
        "id": "qAncvcpDLIcv",
        "colab_type": "text"
      },
      "source": [
        "**• What are containers?**\n",
        "\n",
        "Containers are unit of software, where individual applications can run on their own virtual environment with all the dependencies (packages and libraries) already present. Multiple containers can run over an OS kernel. Containers can help in isolating environment to run these applications with all the services required. It is the abstraction at the application level.\n",
        "\n",
        "**• What problem do containers solve?**\n",
        "\n",
        "Virtual machines can optimize the resources by a server, but there still waste. This wastage is avoided by containers where an application can be run in its own virtual environment, which is like a small container just meant for the application. \n",
        "Containers help in maintaining consistency in deployments and make it convenient for any environment: private or public cloud or just a personal device. \n",
        "Containers also save memory and are faster, they are portable with their usage as well.\n",
        "The only concern with all these advantages of containers is the security. As the Docker images can be downloaded easily, Docker has used Docker Content Trust to verify the publisher of the images, it isn’t a definite way to secure this process completely.\n",
        "\n",
        "**• What is the relationship between Kubernetes and containers?**\n",
        "\n",
        "Containers can be used to run multiple applications in a single machine, but what if there is a need to use more than one machine then the horizontal scaling (moving across containers) is needed. This where Kubernetes comes into picture. Kubernetes helps in container orchestration to manage large number of containers. It consists of nodes that are equivalent to servers. A pod in Kubernetes is a unit of deployment. The Kubernetes pods contain multiple Docker containers. The containers in a pod share the same host (network).\n",
        "\n",
        "\n",
        "![Qwiklabs](https://user-images.githubusercontent.com/44381361/74116019-a20e5700-4b7f-11ea-9291-1542a9b08cde.png)\n",
        "\n",
        "![Building Second Image](https://user-images.githubusercontent.com/44381361/74116032-af2b4600-4b7f-11ea-99a8-6561f0e8a6de.png)\n",
        "\n",
        "![Checking the image created](https://user-images.githubusercontent.com/44381361/74116040-b8b4ae00-4b7f-11ea-8698-23204471942d.png)\n",
        "\n",
        "![Cluster created](https://user-images.githubusercontent.com/44381361/74116059-d124c880-4b7f-11ea-9f9d-a6901c3199bc.png)\n",
        "\n",
        "![Viewing application in the browser](https://user-images.githubusercontent.com/44381361/74116072-de41b780-4b7f-11ea-8d3b-bc39ad032af8.png)\n",
        "\n",
        "![Creating pods](https://user-images.githubusercontent.com/44381361/74116083-e699f280-4b7f-11ea-9734-7d391af00e5c.png)\n",
        "\n",
        "![Ensuring Helm is installed](https://user-images.githubusercontent.com/44381361/74116093-f6193b80-4b7f-11ea-9fb4-1d14e3a0702f.png)\n",
        "\n",
        "![Jenkins service created](https://user-images.githubusercontent.com/44381361/74116099-ff0a0d00-4b7f-11ea-911e-bb8b5c1918ec.png)\n",
        "\n",
        "![Jenkins](https://user-images.githubusercontent.com/44381361/74116107-0af5cf00-4b80-11ea-95b4-ab257732b018.png)\n",
        "\n",
        "\n",
        "\n"
      ]
    }
  ]
}