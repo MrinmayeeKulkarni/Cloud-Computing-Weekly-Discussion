{
  "nbformat": 4,
  "nbformat_minor": 0,
  "metadata": {
    "colab": {
      "name": "Week1_Discussion.ipynb",
      "provenance": [],
      "authorship_tag": "ABX9TyMzap1bU5WkU+g+ItNPppTN",
      "include_colab_link": true
    },
    "kernelspec": {
      "name": "python3",
      "display_name": "Python 3"
    }
  },
  "cells": [
    {
      "cell_type": "markdown",
      "metadata": {
        "id": "view-in-github",
        "colab_type": "text"
      },
      "source": [
        "<a href=\"https://colab.research.google.com/github/MrinmayeeKulkarni/Cloud-Computing-Weekly-Discussion/blob/master/Week1_Discussion.ipynb\" target=\"_parent\"><img src=\"https://colab.research.google.com/assets/colab-badge.svg\" alt=\"Open In Colab\"/></a>"
      ]
    },
    {
      "cell_type": "markdown",
      "metadata": {
        "id": "V981xKe2qjza",
        "colab_type": "text"
      },
      "source": [
        "**•\tWhat are the problems solved economically by cloud computing vs traditional infrastructure?**\n",
        "\n",
        "With cloud computing the aim is to reduce costs, more simplicity and more flexibility. In traditional infrastructure the variable costs as well as the upfront costs are higher than cloud computing. The upfront cost was a lot higher when it was mainframe era, the high upfront cost has reduced a bit, but still the data centers requires a large set up. The server hardware as well as the labor is heavy investment in traditional infrastructure.\n",
        "The variable costs due to randomness (probability of end-user using), time-of-day patterns as there is cyclical or pattern behavior of a set of people and industry specific also changes the costs relating to the cloud usage. These variable costs can be high in traditional infrastructure as the data runs at a predetermined rate on a physical server which increases wastage and requires more energy. In cloud computing this variable costs would significantly lower as it can be catered to the different users.\n",
        "There is a high cost in maintaining large data centers and cloud computing helps in solving this cost problem. Due to cloud computing the costs related in maintaining such data centers (electricity, hardware and labor) are reduced. With reduced cost it also achieves less complex nature of acquiring the data needed by an organization with scalable platform to store it. \n",
        "This reduced time in storing and maintaining the data can be utilized in reducing processing times for customers as well as innovation in the market place. This would definitely increase more productivity and in turn assist in increasing revenue better than traditional infrastructure.\n",
        " \n",
        "**•\tWhat skills are you going to learn by the end of this year, why and how?**\n",
        "\n",
        "I am looking forward to learning more in-depth about AWS platform through this class and be proficient by end of this year in it along with an AWS Certificate to show for this knowledge acquired. I want to deep dive more in the cloud computing life cycle from creation, storage to computing including machine learning models within the platforms.\n",
        " \n",
        "**•\tWhat are the problems solved technically by cloud computing vs traditional infrastructure?**\n",
        "\n",
        "With cloud computing you can adjust the capacity on the fly- Even if this is a main area in helping in reduction in costs it can also solve manpower as well as resources wastage problems, resulting in more efficiency to tackle and optimize business solutions.\n",
        "As the processing is done more faster than traditional infrastructure it reduces time for the product to reach the customer base.\n",
        "With more scalability and flexibility there is more room for innovation and exploration for different opportunities.\n",
        "Another important technical solution from cloud computing is the change in direction for the staff to be more creative, spending more time on compliance and security than on maintenance and operations.\n",
        "More tools are available at an organization's disposal through cloud computing than traditional infrastructure as integration is easier in cloud.\n",
        " \n"
      ]
    }
  ]
}