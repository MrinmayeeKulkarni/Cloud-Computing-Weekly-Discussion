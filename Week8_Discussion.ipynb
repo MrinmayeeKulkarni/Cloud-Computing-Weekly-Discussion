{
  "nbformat": 4,
  "nbformat_minor": 0,
  "metadata": {
    "colab": {
      "name": "Week8_Discussion.ipynb",
      "provenance": [],
      "collapsed_sections": [],
      "authorship_tag": "ABX9TyM4CZOYjTYcV+LAPwLwylcc",
      "include_colab_link": true
    },
    "kernelspec": {
      "name": "python3",
      "display_name": "Python 3"
    }
  },
  "cells": [
    {
      "cell_type": "markdown",
      "metadata": {
        "id": "view-in-github",
        "colab_type": "text"
      },
      "source": [
        "<a href=\"https://colab.research.google.com/github/MrinmayeeKulkarni/Cloud-Computing-Weekly-Discussion/blob/master/Week8_Discussion.ipynb\" target=\"_parent\"><img src=\"https://colab.research.google.com/assets/colab-badge.svg\" alt=\"Open In Colab\"/></a>"
      ]
    },
    {
      "cell_type": "markdown",
      "metadata": {
        "id": "BE6U8thM5WJo",
        "colab_type": "text"
      },
      "source": [
        "•\tWhat are the key differences between block and object storage?\n",
        "\n",
        "![alt text](https://user-images.githubusercontent.com/44381361/76693616-8a266900-663e-11ea-9565-a962bc62a2e7.png)\n",
        "\n",
        "Object Storage- Data is stored in objects and every object contains the data, metadata and a unique identifier. There is no limit on the type and amount of metadata in an object storage and therefore it is more powerful and customizable. Thus, more used where data needs to be highly available and durable. The objects are stored in multiple copies in a distributed system and if one or more nodes fail, still the data is available mostly on the storage. Object storage can be used on less expensive hardware. Data can be stored across multiple geographies. Can be highly scalable.\n",
        "\n",
        "Block Storage- Files are split into equally sized blocks and no metadata. As it is split in equally sized blocks it allows to edit one part of a file rather than changing the whole file for just that small piece. Block storage also offers resiliency in the data with erasure coding and multi-site replication but it is added on to the block storage rather than built-in like it is in object storage. Block storage can give more usability.\n",
        "\n",
        "•\tWhat are the key problems do a Data Lake solve?\n",
        "\n",
        "A data lake is getting increasingly popular nowadays. A customer’s interaction with an organization creates fragmented datasets of the same user. As this fragmentation poses significant challenge in collecting the data fragments from different service providers and also poses a challenge to store the data for analytics purposes. With data fragmented and stored in different locations using different formats a data lake comes into picture. \n",
        "\n",
        "Data lake is a repository which allows to store, discover, govern and share all of the structured and unstructured data at any scale. \n",
        "\n",
        "It breaks down data silos, this is useful when there are different types of data in different places in an organization. Data lake unites all data in one location and teams can function as their own units but all roads lead back to the main data lake.\n",
        "\n",
        "Analyzing diverse datasets: Data lake helps in analyzing diverse datasets using different systems and varied information. They assist to import data in any format as there is no pre-defined schema.\n",
        "\n",
        "Managing data access: With larger organizations data is stored in different locations all around the world and it is difficult to access all of it or to link tools for analysis. It easier to manage data with credentials rather than different locations and that is what Data lake does.\n",
        "\n",
        "Accelerates in Machine Learning: It helps in better train machine learning models through previous encountering of various data types and formats.\n",
        "\n",
        "•\tPost a screenshot of a lab where you had difficulty with a concept or learned something.\n",
        "\n",
        "I completed the Qwik labs using SDK command line and AWS Academy Data Analytics Lab: Store data in Amazon S3, Query data in Amazon S3 with Amazon Athena and AWS Glue. It was very helpful to understand how to load data to Amazon S3 and create indexes with AWS Glue and Query in AWS Athena. It was very good to understand the SDK command line and creating firewall was very informative.\n",
        "\n",
        "Creating Firewall Rules-\n",
        "![alt text](https://user-images.githubusercontent.com/44381361/76693605-58ad9d80-663e-11ea-91b9-4dd111a945c9.png)\n",
        "\n",
        "Creating cnet-vm instance-\n",
        "![alt text](https://user-images.githubusercontent.com/44381361/76693606-5cd9bb00-663e-11ea-87c7-35cb281eadee.png)\n",
        "\n",
        "Reviewing Metadata created by AWS Glue-\n",
        "![alt text](https://user-images.githubusercontent.com/44381361/76693608-62370580-663e-11ea-9f8b-8cfa8e5e71d7.png)\n",
        "\n",
        "\n",
        "\n"
      ]
    }
  ]
}