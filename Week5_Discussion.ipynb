{
  "nbformat": 4,
  "nbformat_minor": 0,
  "metadata": {
    "colab": {
      "name": "Week5_Discussion.ipynb",
      "provenance": [],
      "collapsed_sections": [],
      "authorship_tag": "ABX9TyMeDLRVjTcZQxkIhV3mKGSM",
      "include_colab_link": true
    },
    "kernelspec": {
      "name": "python3",
      "display_name": "Python 3"
    }
  },
  "cells": [
    {
      "cell_type": "markdown",
      "metadata": {
        "id": "view-in-github",
        "colab_type": "text"
      },
      "source": [
        "<a href=\"https://colab.research.google.com/github/MrinmayeeKulkarni/Cloud-Computing-Weekly-Discussion/blob/master/Week5_Discussion.ipynb\" target=\"_parent\"><img src=\"https://colab.research.google.com/assets/colab-badge.svg\" alt=\"Open In Colab\"/></a>"
      ]
    },
    {
      "cell_type": "markdown",
      "metadata": {
        "id": "2Sm3XrI1bnW-",
        "colab_type": "text"
      },
      "source": [
        " \n",
        "**How does the CAP Theorem play a role in designing for the cloud?**\n",
        "\n",
        "CAP theorem explains the properties consistency, availability and partition tolerance while designing distributed systems. In the past vertical scaling was used to increase processing power but now horizontal scaling can be more convenient using more machines to do the same task. As cloud applications are distributed systems, designing it is usually by the CAP theorem. According to the theorem a distributed system can only have 2 out 3 desirable properties to apply. \n",
        "In order to pick the right cloud tool an understanding of CAP theorem is important. In designing for cloud there should be knowledge of this theorem for understanding these trade-offs for unique specifications.\n",
        "\n",
        "Consistency- Everyone sees the same data at the same time on any node connected.\n",
        "\n",
        "Availability- Client making a request gets a response even if some of the nodes are down. This makes the system able to handle all requests.\n",
        "\n",
        "Partition tolerance-The system can sustain network failure by being tolerant to partitions.\n",
        "\n",
        "But understanding this theorem also helps in knowing that this trade-off is very rare. The partitions occur very rarely and also the situation to give up either consistency or availability. I agree with the article that all these three properties are continuous. Consistency can have many levels and partition has varied nature including the disagreement within the system whether the partition even exists. \n",
        " \n",
        "**What are the implications of Amdahl’s law for Machine Learning projects?**\n",
        "\n",
        "More than a law Amdahl’s law is an approximation that models the ideal speedup that can occur when serial programs are modified to run in parallel. It is a formula which gives the theoretical speedup in latency of the execution of a task at fixed workload that can be expected of a system whose resources are improved.\n",
        "\n",
        "S(s)=1/((1-P)+P/s)\n",
        "\t\n",
        "  S is latency is the theoretical speedup of the execution of the whole task\n",
        "\t\n",
        "  s is the speedup of the part of the task that benefits from improved system resources\n",
        "\t\n",
        "  p is the proportion of execution time that the part benefiting from improved resources originally occupied.\n",
        "\n",
        "If we compare this with the law of Diminishing returns, Amdahl’s law can have diminishing returns on large Machine learning projects. Adding more resources can help in computing for a fixed size but with every addition of processor to the system, it will add less usable power than the previous addition. Therefore,each time the processors are doubled the speedup ratio will reduce. If projects do not scale with the processors then the speedup ratio will keep diminishing.\n",
        "\n",
        "![alt text](https://user-images.githubusercontent.com/44381361/74624218-a2759780-5115-11ea-9606-a6e0fe35e953.png)\n",
        "\n"
      ]
    }
  ]
}