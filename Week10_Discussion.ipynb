{
  "nbformat": 4,
  "nbformat_minor": 0,
  "metadata": {
    "colab": {
      "name": "Week10_Discussion.ipynb",
      "provenance": [],
      "collapsed_sections": [],
      "authorship_tag": "ABX9TyPJFSpDzTJTbW6i1isAJXiv",
      "include_colab_link": true
    },
    "kernelspec": {
      "name": "python3",
      "display_name": "Python 3"
    }
  },
  "cells": [
    {
      "cell_type": "markdown",
      "metadata": {
        "id": "view-in-github",
        "colab_type": "text"
      },
      "source": [
        "<a href=\"https://colab.research.google.com/github/MrinmayeeKulkarni/Cloud-Computing-Weekly-Discussion/blob/master/Week10_Discussion.ipynb\" target=\"_parent\"><img src=\"https://colab.research.google.com/assets/colab-badge.svg\" alt=\"Open In Colab\"/></a>"
      ]
    },
    {
      "cell_type": "markdown",
      "metadata": {
        "id": "uaO8LZp1dC6q",
        "colab_type": "text"
      },
      "source": [
        "#### What problems does Google App Engine solve?\n",
        "\n",
        "  Google App Engine is cloud based platform which can be use as Infrastructure as a service (IaaS), Platform as a service (PaaS) and Software as a service (SaaS) for hosting applications and providing platform for development. It can be used to build and deploy applications in many popular programming languages, example Java, PHP, Node.js, Python, C#, .Net, Ruby etc.\n",
        "  It can be beneficial because of the following factors,\n",
        "\n",
        "    •\tGoogle App Engine has a robust performance and reliability\n",
        "\n",
        "    •\tInfrastructure for security\n",
        "\n",
        "    •\tEasy to use: Quick development process, Quick to Start, Easy-to-use APIs\n",
        "\n",
        "    •\tPlatform Independence\n",
        "\n",
        "    •\tRich set of APIs and services\n",
        "\n",
        "    •\tHighly Scalable\n",
        "\n",
        "    •\tCost savings: Pay as per usage\n",
        "\n",
        "#### What problems does the Cloud Shell environment solve?\n",
        "\n",
        "  Cloud Shell provides command-line access to cloud resources from the browser. It can be used to manage projects and other resources without using Google Cloud SDK.\n",
        "\n",
        "    •\tIt provides full power access from anywhere\n",
        "\n",
        "    •\tProvides built-in authorizations for projects and resources in Google Cloud Platform\n",
        "\n",
        "    •\tMost of the popular command-line tools are pre-installed and updated, admin tools such as MySql client, Kubernetes, and Docker are configured and ready\n",
        "\n",
        "    •\tDevelopers have access to popular development tools pre-configured, example Java, Go, Python, Node.js, PHP etc.\n",
        "\n",
        "    •\t5 GB of persistent disk storage\n",
        "\n",
        "#### Post a screenshot of a lab where you had difficulty with a concept or learned something.\n",
        "\n",
        "  I completed the App Dev: Setting up a Development Environment - Python lab for Application Development -Python module in Qwiklabs. \n",
        "  But I ran into issues in the second lab App Dev: Storing Application Data in Cloud Datastore - Python. After updating the code in Cloud Datastore.py I was able to run the run_server.py but while creating a new question I ended up going into “KeyError: 'correctAnswer'” issues. I tried to fix it but ran out of time for the lab.\n",
        "\n",
        "\n",
        "Lab 1 Configuring VM to run application software\n",
        "\n",
        "![alt text](https://user-images.githubusercontent.com/44381361/77453612-da839080-6dcd-11ea-97d4-632973cad4ef.png)\n",
        "\n",
        "Lab 2 Creating question but unable to run due to key error, tried to run it in the begiining had the same issue and in the later part of the lab as well, the same issue.\n",
        "\n",
        "![alt text](https://user-images.githubusercontent.com/44381361/77453717-fdae4000-6dcd-11ea-8fc8-99a22b458834.png)\n",
        "\n",
        "\n"
      ]
    }
  ]
}