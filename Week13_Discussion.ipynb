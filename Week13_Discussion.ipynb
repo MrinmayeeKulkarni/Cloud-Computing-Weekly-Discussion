{
  "nbformat": 4,
  "nbformat_minor": 0,
  "metadata": {
    "colab": {
      "name": "Week13_Discussion.ipynb",
      "provenance": [],
      "authorship_tag": "ABX9TyNpDDhkzfDLWTp2sWPrcRBM",
      "include_colab_link": true
    },
    "kernelspec": {
      "name": "python3",
      "display_name": "Python 3"
    }
  },
  "cells": [
    {
      "cell_type": "markdown",
      "metadata": {
        "id": "view-in-github",
        "colab_type": "text"
      },
      "source": [
        "<a href=\"https://colab.research.google.com/github/MrinmayeeKulkarni/Cloud-Computing-Weekly-Discussion/blob/master/Week13_Discussion.ipynb\" target=\"_parent\"><img src=\"https://colab.research.google.com/assets/colab-badge.svg\" alt=\"Open In Colab\"/></a>"
      ]
    },
    {
      "cell_type": "markdown",
      "metadata": {
        "id": "5EjduLCaWlZk",
        "colab_type": "text"
      },
      "source": [
        "### What problems does edge-based machine learning solve?\n",
        "\n",
        "Traditional cloud computing networks are centralized. The data is gathered on the outermost edges and transmitted back to the main servers for processing. The cloud architecture is this way due to the fact that most of the devices located near the edge lack the computational power and storage capacity to analyze or process the data they collected. Their functionality is relatively limited by hardware capabilities.\n",
        "\n",
        "Due to today’s Internet of Things (IoT) devices, which are powerful, capable of gathering, storing, and processing more data than ever before has opened up opportunities for companies to optimize their networks and relocate more processing functions closer to where data is gathered at the network edge, where it can be analyzed and applied in real time which can be much closer to intended users. \n",
        "\n",
        "Since the data doesn’t have to travel all the way back to the central server for the device to know that a function needs to be executed, edge computing networks can greatly reduce latency and enhance performance. The speed and flexibility afforded by this approach to handling data creates an exciting range of possibilities for businesses.\n",
        "\n",
        "Increased speed due to reduced latency.\n",
        "\n",
        "Security- While the proliferation of IoT edge computing devices does increase the overall attack surface for networks, it also provides some important security advantages. Traditional cloud computing architecture is inherently centralized, which makes it especially vulnerable to distributed denial of service (DDoS) attacks and power outages. Edge computing distributes processing, storage, and applications across a wide range of devices and data centers, which makes it difficult for any single disruption to take down the network.\n",
        "\n",
        "Scalability- Edge computing offers a lesser expensive route to scalability by a combination of IoT and edge data centers.\n",
        "\n",
        "Versatility- The scalability of edge computing also makes it incredibly versatile. By partnering with local edge data centers, companies can easily target desirable markets without having to invest in expensive infrastructure expansion. Edge data centers allow them to service end users efficiently with little physical distance or latency. By incorporating new IoT devices into their edge network architecture, companies can offer new and better services to their customers without completely overhauling their IT infrastructure.\n",
        "\n",
        "Reliability- Processing data closer to the source and prioritizing traffic does not only reduce latency but also is critical for performance. With so many edge computing devices and edge data centers connected to the network, it becomes much more difficult for any-one failure to shut down service entirely. Data can be re-routed through multiple pathways to ensure users retain access to the products and information they need. Effectively incorporating IoT edge computing devices and edge data centers into a comprehensive edge architecture can therefore provide unparalleled reliability.\n",
        "\n",
        "Reference: https://www.vxchnge.com/blog/the-5-best-benefits-of-edge-computing\n",
        "\n",
        "![image](https://user-images.githubusercontent.com/44381361/79627221-85087e00-8104-11ea-95c1-58c2d4a3bf12.png)\n",
        " \n",
        "### What are the ML frameworks most widely used with edge inference?\n",
        "\n",
        "    Amazon Machine Learning\n",
        "\n",
        "    (Google) ML kit for Firebase\n",
        "\n",
        "    PyTorch Mobile\n",
        "\n",
        "    TensorFlow lite\n",
        "\n",
        "    Intel Movidius\n",
        "\n",
        "    Core ML\n",
        "\n",
        "    Microsoft: Embedded learning library- Raspberry Pi\n",
        "\n",
        "    Apache MXNet- Raspberry Pi\n",
        "\n",
        "### Post a screenshot of a lab where you had difficulty with a concept or learned something.\n",
        "\n",
        "Lab: Analyze IoT Data with AWS IoT Analytics\n",
        "\n",
        "I attempted the IoT lab in AWS, it was challenging but I learned how to create a channel, a datastore. It was interesting to know how to create a pipeline with my channel and datastore. Creating the IoT core rule. Configuring Python environment with SSH was challenging. After creating the SSH environment the next task was to set the AWS CLI, installing SDK and downloading dataset. I could see the downloaded data when ran ‘ls’ in the terminal. But once entered the python script to simulate ingesting data from IoT devices, I kept running in the following error \n",
        "While at Task 5.1: Load the data to the MQTT topic kept getting this error \n",
        "\n",
        "![image](https://user-images.githubusercontent.com/44381361/79627222-89349b80-8104-11ea-85cc-efed5f3b27b8.png)\n"
      ]
    }
  ]
}