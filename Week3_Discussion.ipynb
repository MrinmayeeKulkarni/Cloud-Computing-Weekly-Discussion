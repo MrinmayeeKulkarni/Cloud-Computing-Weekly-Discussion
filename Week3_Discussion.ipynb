{
  "nbformat": 4,
  "nbformat_minor": 0,
  "metadata": {
    "colab": {
      "name": "Week3_Discussion.ipynb",
      "provenance": [],
      "authorship_tag": "ABX9TyO6mRpQMRhgdvEjSOZ1FFCK",
      "include_colab_link": true
    },
    "kernelspec": {
      "name": "python3",
      "display_name": "Python 3"
    }
  },
  "cells": [
    {
      "cell_type": "markdown",
      "metadata": {
        "id": "view-in-github",
        "colab_type": "text"
      },
      "source": [
        "<a href=\"https://colab.research.google.com/github/MrinmayeeKulkarni/Cloud-Computing-Weekly-Discussion/blob/master/Week3_Discussion.ipynb\" target=\"_parent\"><img src=\"https://colab.research.google.com/assets/colab-badge.svg\" alt=\"Open In Colab\"/></a>"
      ]
    },
    {
      "cell_type": "markdown",
      "metadata": {
        "id": "1Ja8VZTit9EX",
        "colab_type": "text"
      },
      "source": [
        "**What are the different layers of network security on AWS and what unique problems do each solve?**\n",
        "\n",
        "Security Groups are the firewall for EC2 instances  which control inbound and outbound traffic at the instance level. The level of security can be very flexible and customizable at this point.  Security groups are stateful and kept track off. Network Access Control Lists are firewalls for sub-nets. A way to get a public-private key pair to decrypt the public encrypted information.\n",
        "\n",
        "**Web layer**- This is to set up rules from anywhere on the internet. This would usually allow to connect to application servers.\n",
        "\n",
        "**Application layer**- Only accepts traffic from the web layer and can be scaled up to different availability.\n",
        "\n",
        "**Database layer**- Only accepts traffic from app layer. This would be to secure the databases from external threats.\n",
        "\n",
        "**What problem do AWS Spot instances solve and how could you use them in your projects?**\n",
        "\n",
        "In an organization cloud computing is used for flexible and scalable nature for the DevOps team. But this definitely comes with a cost, even if there is a cost optimization using the cloud services they have to be available continuously and that adds to the bill.\n",
        "\n",
        "Spot instances help in bringing down this costs for specific non critical issues and stateless applications.\n",
        "\n",
        "The resources available may not be utilized all the time and these under-utilized can lead to an unnecessary bill. Spot instances being free resources at that time, offered at a discounted rate usually around 80% reduced price that can be available for a limited time.\n",
        "\n",
        "Spot instances have unexpected interruptions, AWS gives only a 2-minute notification before termination of the spot. Thus they can be helpful in solving data analysis in a project which can be used for flexible applications which do not need that much of an investment with the cloud usage bill for high performance computing and lesser time critical processes.\n",
        "\n",
        "In a project these instances would be especially be useful as a student . As someone who is still exploring AWS resources it would be better to use spot instances in data analysis, exploration and cleaning before running the model. And even in modeling if there is a specific program that can be run at a lower cost on the spot instance then it would be a better option."
      ]
    }
  ]
}