{
  "nbformat": 4,
  "nbformat_minor": 0,
  "metadata": {
    "colab": {
      "name": "Week9_Discussion.ipynb",
      "provenance": [],
      "collapsed_sections": [],
      "authorship_tag": "ABX9TyNi1LYrxAcaTLy7NLHpRSpm",
      "include_colab_link": true
    },
    "kernelspec": {
      "name": "python3",
      "display_name": "Python 3"
    }
  },
  "cells": [
    {
      "cell_type": "markdown",
      "metadata": {
        "id": "view-in-github",
        "colab_type": "text"
      },
      "source": [
        "<a href=\"https://colab.research.google.com/github/MrinmayeeKulkarni/Cloud-Computing-Weekly-Discussion/blob/master/Week9_Discussion.ipynb\" target=\"_parent\"><img src=\"https://colab.research.google.com/assets/colab-badge.svg\" alt=\"Open In Colab\"/></a>"
      ]
    },
    {
      "cell_type": "markdown",
      "metadata": {
        "id": "y93eukfVl9kK",
        "colab_type": "text"
      },
      "source": [
        "### What are the tradeoffs with a serverless architecture?\n",
        "\n",
        "While using serverless architecture the main advantages is that the developers don not have to worry about purchasing, provisioning and managing backend servers.\n",
        "\n",
        "#### Benefits-\n",
        "\n",
        "1) Server management is not required for developers; it is managed by the vendor. This reduces investment on DevOps and developers can create and invest time in innovations in applications than worrying about server capacity.\n",
        "\n",
        "2) Lower Operation Costs as in serverless architecture nothing runs when no event occurs. The platform which hosts the functions takes care to execute them only when necessary. Provisioning of these services is dynamic, precise and real-time.\n",
        "\n",
        "3) The applications with serverless architecture can scale automatically if the users grow or usage increases.\n",
        "\n",
        "4) Quick deployments and updates can be made in serverless architecture as there is no need to upload code to servers for back-end configuration before deployment. Developers can upload bits of code and release the product.\n",
        "\n",
        "5) Code can run anywhere therefore can be run near the user. This reduces latency.\n",
        "\n",
        "#### Risks-\n",
        "\n",
        "1) These are not built for long running processes; they are built for applications that can be run cost-effectively in the architecture. \n",
        "\n",
        "2) Performance affected as the serverless code may need to ‘boot-up’. If it is frequently used code then the provider will keep it ready to be activated. But still there is an affect on the performance due to the ‘cold start’.\n",
        "\n",
        "3) Vendor lock-in is a big risk associated with serverless architecture as an application will be relying on the vendor.\n",
        "\n",
        "4) Security risk; as it is not possible to vet vendor's security for applications with sensitive data.\n",
        "\n",
        "### How are the advantages to developing with Cloud9?\n",
        "\n",
        "o\tFlexible Browser for coding and releasing new projects: It is an Integrated Development Environment operating on the cloud, thus allows writing, running and debugging on the web browser. The development environment already contains most of the programming languages and therefore there is no need for developers to install any programs.\n",
        "\n",
        "o\tAccessibility: It can easily access from anywhere.\n",
        "\n",
        "o\tCollaborative coding: One can collaborate with others as a team on Cloud9.\n",
        "\n",
        "o\tEasy to make serverless applications.\n",
        "\n",
        "### Post a screenshot of a lab where you had difficulty with a concept or learned something.\n",
        "\n",
        "It was interesting to create a Lambda function and see how to connect the services through step function and run the same in Cloud9. I only had issues in viewing the new Lambda function created in Cloud9 on Lambda functions tab. How much ever I tried to refresh the page I was unable to see it on the Lambda page. But it was very interesting to see its easy access on Cloud9.\n",
        "\n",
        "Log message in Lambda\n",
        "\n",
        "![alt text](https://user-images.githubusercontent.com/44381361/76820450-9139ac80-67e1-11ea-8cd1-543369638af9.png)\n",
        "\n",
        "CloudWatch Log\n",
        "\n",
        "![alt text](https://user-images.githubusercontent.com/44381361/76820462-9b5bab00-67e1-11ea-81cf-6c0bfeb5fcc1.png)\n",
        "\n",
        "Step Function with Lambda\n",
        "\n",
        "![alt text](https://user-images.githubusercontent.com/44381361/76820497-b5958900-67e1-11ea-8c31-c37a33441a50.png)\n",
        "\n",
        "Input and Output with State Machine\n",
        "\n",
        "![alt text](https://user-images.githubusercontent.com/44381361/76820512-c6de9580-67e1-11ea-9331-542677801150.png)\n",
        "\n",
        "Running Lambda from CLoud9\n",
        "\n",
        "![alt text](https://user-images.githubusercontent.com/44381361/76820545-e4136400-67e1-11ea-81ba-c14c15ccabb6.png)\n",
        "\n",
        "Creating and running a new Lambda Function in Cloud9\n",
        "\n",
        "![alt text](https://user-images.githubusercontent.com/44381361/76820578-f7beca80-67e1-11ea-84f2-600286ac60cf.png)\n",
        "\n"
      ]
    }
  ]
}