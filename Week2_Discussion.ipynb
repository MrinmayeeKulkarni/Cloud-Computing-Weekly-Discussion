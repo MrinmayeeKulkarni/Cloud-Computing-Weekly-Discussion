{
  "nbformat": 4,
  "nbformat_minor": 0,
  "metadata": {
    "colab": {
      "name": "Week2_Discussion.ipynb",
      "provenance": [],
      "authorship_tag": "ABX9TyOZE1Ancsx3OJ/toN1mOdr1",
      "include_colab_link": true
    },
    "kernelspec": {
      "name": "python3",
      "display_name": "Python 3"
    }
  },
  "cells": [
    {
      "cell_type": "markdown",
      "metadata": {
        "id": "view-in-github",
        "colab_type": "text"
      },
      "source": [
        "<a href=\"https://colab.research.google.com/github/MrinmayeeKulkarni/Cloud-Computing-Weekly-Discussion/blob/master/Week2_Discussion.ipynb\" target=\"_parent\"><img src=\"https://colab.research.google.com/assets/colab-badge.svg\" alt=\"Open In Colab\"/></a>"
      ]
    },
    {
      "cell_type": "markdown",
      "metadata": {
        "id": "CEP7RKV6tDVE",
        "colab_type": "text"
      },
      "source": [
        "**What is IAC and what problem does it solve?**\n",
        "\n",
        "Infrastructure as code helps in the automation of managing and configurating infrastructure architecture in codified format. It is like a code file of the infrastructure which reduces chances of human error. Also, it is easy to reproduce this file to edit, copy and distribute and just makes the process simpler and also helpful in case of disaster recovery.\n",
        "\n",
        "IAC tools work in two approaches, imperative and declarative. Imperative approach gives a step by step process to achieve the desired result and declarative gives the end goal that has to be achieved\n",
        "\n",
        "(Examples -Imperative: Chef, Ansible, SaltStack; Declarative: Puppet, CloudFormation, Terraform, SaltStack).\n",
        "\n",
        "It solves the problems of manually configuring and managing hardware. It is codified and therefore would result in more traceability and in turn more accountability. It would definitely lower costs but I think the most important benefit of IAC is the consistency established by these automation tools as well as the smooth and efficient functioning during a software development cycle.\n",
        "\n",
        "**How should a company decide on what level of cloud abstraction to use for a project: SaaS, PaaS, IaaS, MaaS, Serverless?**\n",
        "\n",
        "It is important to decide at what level of cloud abstraction a company needs. An important way to understand is by the cost they are going to invest and the benefit in terms of money they would get out of it. It is also important to look at it in terms of opportunity costs. An organization should look at the opportunity cost that they would be losing if they don't use cloud than the costs. It is also very situational and also dependent on what the company needs to focus with money and work force.\n",
        "\n",
        "IaaS should be used by company by looking at their budget as well as the talent pool. If their budget is small and their team to handle DevOps is equipped with efficient people then this is a great cost effective option for them. I still doubt that even with a small team having  a very skilled work force in IaaS, the cost of salaries for the company would be higher. It depends on what they want to spend on.\n",
        "\n",
        "As rightfully described about MaaS there should a very well done cost analysis done to justify using this abstraction. It can be useful for companies with niche applications or with companies who already have the hardware but would need to use virtual machines for more efficiency. It would be useful to automate hardware which can be API-driven and would make it easy to configure, deploy and redeploy. Maas can be a layer underneath to IaaS, thus it can also be used by big corporations with niche or large scale applications as it can be scaled.\n",
        "\n",
        "Platform as a service would be more useful for a very small company or a startup who do not that have that much money to  invest in the IaaS for expensive and skilled high paid work force. It includes development tools, database management tools and services providing \"point and click\" integration. This would be better to use if the costs for training or hiring the required workforce do not match with the type or duration of a project.\n",
        "\n",
        "Serverless computing would provide the user with pay-as-you-go service from a backend services provided by a vendor. This would be beneficial for companies who do not have larger applications and do not have continuous running applications provided as a service. It can be a security concern at times so companies with very sensitive data should avoid using serverless computing for now. These are good for companies who don't want the hassle to work with servers and handover the management to a vendor, they reduce costs as the code automatically scales and provides dynamic, precise and real-time process.\n",
        "\n",
        "Software as a service would be useful for companies who do not want to invest in specific services which they can rent and use from other vendors. Many companies could use SaaS with IaaS, PaaS.\n",
        "\n"
      ]
    }
  ]
}